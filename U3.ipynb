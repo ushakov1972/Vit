{
 "cells": [
  {
   "cell_type": "code",
   "execution_count": 3,
   "metadata": {},
   "outputs": [],
   "source": [
    "# задание 1"
   ]
  },
  {
   "cell_type": "code",
   "execution_count": 4,
   "metadata": {},
   "outputs": [
    {
     "name": "stdout",
     "output_type": "stream",
     "text": [
      "gj\n"
     ]
    }
   ],
   "source": [
    "word=\"hgjd\"\n",
    "if len(word) % 2 == 0:\n",
    "    print(word[int(len(word) / 2 - 1):int(len(word) / 2 +1)])\n",
    "else:\n",
    "    print(word[int(len(word) / 2)])"
   ]
  },
  {
   "cell_type": "code",
   "execution_count": null,
   "metadata": {},
   "outputs": [],
   "source": [
    "# задание 2"
   ]
  },
  {
   "cell_type": "code",
   "execution_count": 5,
   "metadata": {},
   "outputs": [
    {
     "name": "stdout",
     "output_type": "stream",
     "text": [
      "Thailand 57.17 C\n",
      "Germany 39.06 C\n",
      "Russia 20.91 C\n",
      "Poland 35.82 C\n"
     ]
    }
   ],
   "source": [
    "countries_temperature = [\n",
    "    [\"Thailand\", [75.2, 77, 78.8, 73.4, 68, 75.2, 77]],\n",
    "    [\"Germany\", [57.2, 55.4, 59, 59, 53.6]],\n",
    "    [\"Russia\", [35.6, 37.4, 39.2, 41, 42.8, 39.2, 35.6]],\n",
    "    [\"Poland\", [50, 50, 53.6, 57.2, 55.4, 55.4]]\n",
    "]\n",
    "\n",
    "for t in countries_temperature:\n",
    "    print(t[0], round((((sum(t[1]) / len(t[1])))) - 32 / 1.8, 2), 'C') "
   ]
  },
  {
   "cell_type": "code",
   "execution_count": null,
   "metadata": {},
   "outputs": [],
   "source": [
    "# задание 3"
   ]
  },
  {
   "cell_type": "code",
   "execution_count": 6,
   "metadata": {},
   "outputs": [
    {
     "name": "stdout",
     "output_type": "stream",
     "text": [
      "Thailand 57.17 C\n",
      "Germany 39.06 C\n",
      "Russia 20.91 C\n",
      "Poland 35.82 C\n"
     ]
    }
   ],
   "source": [
    "countries_temperature = [\n",
    "    [\"Thailand\", [75.2, 77, 78.8, 73.4, 68, 75.2, 77]],\n",
    "    [\"Germany\", [57.2, 55.4, 59, 59, 53.6]],\n",
    "    [\"Russia\", [35.6, 37.4, 39.2, 41, 42.8, 39.2, 35.6]],\n",
    "    [\"Poland\", [50, 50, 53.6, 57.2, 55.4, 55.4]]\n",
    "]\n",
    "\n",
    "for t in countries_temperature:\n",
    "    print(t[0], round((((sum(t[1]) / len(t[1])))) - 32 / 1.8, 2), 'C') "
   ]
  },
  {
   "cell_type": "code",
   "execution_count": null,
   "metadata": {},
   "outputs": [],
   "source": [
    "# задание 4"
   ]
  },
  {
   "cell_type": "code",
   "execution_count": 7,
   "metadata": {},
   "outputs": [
    {
     "name": "stdout",
     "output_type": "stream",
     "text": [
      "Идеальная пара:\n",
      "Alex и Emma\n",
      "Arthur и Kate\n",
      "John и Kira\n",
      "Peteкr и Liza\n",
      "Richard и Trisha\n"
     ]
    }
   ],
   "source": [
    "boys = ['Peteкr','Alex', 'John', 'Arthur', 'Richard']\n",
    "girls = ['Kate', 'Liza', 'Kira', 'Emma', 'Trisha']\n",
    "if len(boys)==len(girls):\n",
    "    print(\"Идеальная пара:\")\n",
    "    boys.sort()\n",
    "    girls.sort()\n",
    "    result = zip(boys, girls)\n",
    "    for company in result:\n",
    "        print(f\"{company[0]} и {company[1]}\")\n",
    "else:\n",
    "    print(\"Кто то может остаться без пары\")"
   ]
  },
  {
   "cell_type": "code",
   "execution_count": null,
   "metadata": {},
   "outputs": [],
   "source": []
  }
 ],
 "metadata": {
  "kernelspec": {
   "display_name": "Python 3",
   "language": "python",
   "name": "python3"
  },
  "language_info": {
   "codemirror_mode": {
    "name": "ipython",
    "version": 3
   },
   "file_extension": ".py",
   "mimetype": "text/x-python",
   "name": "python",
   "nbconvert_exporter": "python",
   "pygments_lexer": "ipython3",
   "version": "3.8.5"
  }
 },
 "nbformat": 4,
 "nbformat_minor": 4
}
